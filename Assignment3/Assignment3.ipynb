{
 "cells": [
  {
   "cell_type": "markdown",
   "metadata": {},
   "source": [
    "### Bài 1 : Tìm vị trí \n",
    "Viết chương trình tìm kiếm một số trong mảng tăng dần với yêu cầu như sau:\n",
    "\n",
    "INPUT\n",
    "\n",
    "Dòng đầu tiên chứa số n (không quá một triệu), là số phần tử trong mảng\n",
    "\n",
    "Dòng thứ hai chứ n số nguyên dương (không quá một tỷ), cách nhau bởi khoảng trắng, đây là các phần tử của mảng\n",
    "\n",
    "Dòng thứ ba chưa số m (không quá một triệu), đây là số lượng số cần phải tìm.\n",
    "\n",
    "Dòng cuối cùng của input chứa m số nguyên dương x1, x2, ..., xm, giá trị mỗi số không quá một tỷ. Đây là các số cần tìm.\n",
    "\n",
    "OUPUT\n",
    "\n",
    "Ứng với mỗi số cần tìm, xuất ra trên một dòng vị trí của số đó trong mảng. Quy ước số đầu tiên của mảng có vị trí là 0 và nếu số cần tìm không có trong mảng xuất ra -1. Nếu số cần tìm xuất hiện ở nhiều vị trí trong mảng, xuất ra vị trí ở gần phía cuối mảng nhất. Lưu ý là trong mảng có thể có những số lặp đi lặp lại CỰC KỲ NHIỀU lần.\n",
    "\n",
    "| Input  | Output |\n",
    "|--------|--------|\n",
    "| 7      | 3      |\n",
    "| 5 7 8 8 12 16 19 | -1 |\n",
    "| 6      | -1     |\n",
    "| 8 1 0 8 3 16 | 3  |\n",
    "|        | -1     |\n",
    "|        | 5      |\n",
    "\n"
   ]
  },
  {
   "cell_type": "code",
   "execution_count": null,
   "metadata": {},
   "outputs": [],
   "source": [
    "n = int(input())\n",
    "arr = input().split()\n",
    "m = int(input())\n",
    "arr_2 = input().split()\n",
    "index_dict = {num: i for i, num in enumerate(arr)}\n",
    "for num in arr_2:\n",
    "    print(index_dict.get(num, -1))"
   ]
  },
  {
   "cell_type": "markdown",
   "metadata": {},
   "source": [
    "### Bài 2 : lower bound\n",
    "Viết chương trình tìm kiếm một số trong mảng tăng dần với yêu cầu như sau:\n",
    "\n",
    "INPUT\n",
    "\n",
    "Dòng đầu tiên chứa số n (không quá một triệu), là số phần tử trong mảng\n",
    "\n",
    "Dòng thứ hai chứ n số nguyên dương (không quá một tỷ), cách nhau bởi khoảng trắng, đây là các phần tử của mảng\n",
    "\n",
    "Dòng thứ ba chưa số m (không quá một triệu), đây là số lượng số cần phải tìm.\n",
    "\n",
    "Dòng cuối cùng của input chứa m số nguyên dương x1, x2, ..., xm, giá trị mỗi số không quá một tỷ. Đây là các số cần tìm.\n",
    "\n",
    "OUPUT\n",
    "\n",
    "Ứng với mỗi số cần tìm, xuất ra trên một dòng vị trí của số đó trong mảng. Quy ước số đầu tiên của mảng có vị trí là 0 và nếu số cần tìm không có trong mảng xuất ra -1. Nếu số cần tìm xuất hiện ở nhiều vị trí trong mảng, xuất ra vị trí ở gần phía đầu mảng nhất"
   ]
  },
  {
   "cell_type": "code",
   "execution_count": null,
   "metadata": {},
   "outputs": [],
   "source": [
    "n = int(input())\n",
    "arr = input().split()\n",
    "m = int(input())\n",
    "arr_2 = input().split()\n",
    "index_dict = {}\n",
    "for i, num in enumerate(arr):\n",
    "    if num not in index_dict:\n",
    "        index_dict[num] = i\n",
    "for num in arr_2:\n",
    "    print(index_dict.get(num, -1))"
   ]
  },
  {
   "cell_type": "markdown",
   "metadata": {},
   "source": [
    "### Bài 3 : Count phần giao\n",
    "Đối với các mạng xã hội, các trò chơi trực tuyến hay các dịch vụ mạng khác có hỗ trợ trao đổi thông tin theo thời gian thực như nhắn tin, gọi điện, v.v... Việc quản lý danh sách người dùng đang online là công việc thiết yếu. Khi có một user online, hệ thống sẽ phải cho user này biết có ai trong số bạn bè của anh ấy cũng đang online. Các bạn hãy viết chương trình cho biết số friend đang online của user X.\n",
    "\n",
    "INPUT\n",
    "\n",
    "Hàng đầu tiên của input chứ m, n (0 < m,n < 10.000). Trong đó m là số lượng người đang online của toàn hệ thống, n là số lượng friend của người dùng đang xét.\n",
    "\n",
    "Hàng tiếp theo chứa m con số nguyên dương, mỗi số giá trị không quá 1 tỷ và cách nhau bởi khoảng trắng. Đây là các mã số của những người dùng đang online, m số nguyên dương này được xếp theo thứ tự tăng dần và không có mã số nào trùng nhau.\n",
    "\n",
    "Hàng tiếp theo chứa n con số nguyên dương, mỗi số giá trị không quá 1 tỷ và cách nhau bởi khoảng trắng. Đây là các mã số của bạn bè của user X.\n",
    "\n",
    "OUTPUT\n",
    "\n",
    "Xuất ra trên một dòng số lượng bạn của X đang online"
   ]
  },
  {
   "cell_type": "code",
   "execution_count": null,
   "metadata": {},
   "outputs": [],
   "source": [
    "m, n = map(int,input().split())\n",
    "arr_1 = input().split()\n",
    "arr_2 = input().split()\n",
    "dict = {num:i for i,num in enumerate(arr_1)}\n",
    "count = 0\n",
    "for num in arr_2:\n",
    "    if dict.get(num, -1) != -1:\n",
    "        count += 1\n",
    "print(count)"
   ]
  },
  {
   "cell_type": "markdown",
   "metadata": {},
   "source": [
    "### Bài 4 : K số gần nhất \n",
    "Cho mảng số nguyên A đã sắp xếp tăng dần, tìm trong mảng k số có giá trị gần với giá trị x nhất.\n",
    "\n",
    "INPUT\n",
    "\n",
    "Dòng đầu tiên cho biết số phần tử của mảng\n",
    "\n",
    "Dòng thứ 2 là toàn bộ mảng liệt kê trên một hàng, các phần tử cách nhau bởi khoảng trắng\n",
    "\n",
    "Dòng cuối cùng lần lượt là 02 số k và x\n",
    "\n",
    "OUTPUT\n",
    "\n",
    "k số có giá trị gần với x nhất trong mảng. Các số này được xuất theo thứ tự tăng dần (trong trường hợp mảng có nhiều số có cùng khoảng cách tới x, ưu tiên chọn số có giá trị nhỏ hơn)"
   ]
  },
  {
   "cell_type": "code",
   "execution_count": null,
   "metadata": {},
   "outputs": [],
   "source": [
    "import bisect\n",
    "import sys\n",
    "def print_(arr):\n",
    "    sys.stdout.write(\" \".join(map(str, arr)) + \" \")\n",
    "def find_(arr, k, x):\n",
    "    left_index = bisect.bisect_left(arr, x)\n",
    "    arr.append(float(\"inf\"))\n",
    "    left, right = left_index - 1, left_index\n",
    "    while k:\n",
    "        if abs(arr[left] - x) > abs(arr[right] - x):\n",
    "            right += 1\n",
    "        else:\n",
    "            left -= 1\n",
    "        k -= 1\n",
    "    closest_elements = arr[left + 1: right]\n",
    "    print_(closest_elements)\n",
    "n = int(sys.stdin.readline())\n",
    "arr = list(map(int, sys.stdin.readline().split()))\n",
    "k, x = map(int, sys.stdin.readline().split())\n",
    "result = find_(arr, k, x)"
   ]
  },
  {
   "cell_type": "markdown",
   "metadata": {},
   "source": [
    "### Bài 5 : K số gần nhất (2)\n",
    "Cho mảng số nguyên A đã sắp xếp tăng dần, tìm trong mảng k số có giá trị gần với giá trị x nhất.\n",
    "\n",
    "INPUT\n",
    "\n",
    "Dòng đầu tiên cho biết số phần tử của mảng\n",
    "\n",
    "Dòng thứ 2 là toàn bộ mảng liệt kê trên một hàng, các phần tử cách nhau bởi khoảng trắng\n",
    "\n",
    "Các dòng sau đó, mỗi dòng chứa 02 số k  và x , \n",
    "k\n",
    "≤\n",
    "n\n",
    "\n",
    "Input kết thúc bằng một dòng trống không có nội dung.\n",
    "\n",
    "OUTPUT\n",
    "\n",
    "Ứng với mỗi cặp số (k, x) xuất ra màn hình số lớn nhất và nhỏ nhất trong dãy k số có giá trị gần với x nhất. Nếu có nhiều hơn k số có cùng khoảng cách tới x, chọn k số nhỏ nhất"
   ]
  },
  {
   "cell_type": "code",
   "execution_count": null,
   "metadata": {},
   "outputs": [],
   "source": [
    "import bisect\n",
    "import sys\n",
    "def print_(arr_min, arr_max):\n",
    "    return f\"{arr_min} {arr_max}\\n\"\n",
    "def find_(arr, k, x):\n",
    "    left_index = bisect.bisect_left(arr, x)\n",
    "    left, right = left_index - 1, left_index\n",
    "    while right - left - 1 < k:\n",
    "        if left >= 0 and (right == len(arr) or abs(arr[left] - x) <= abs(arr[right] - x)):\n",
    "            left -= 1\n",
    "        else:\n",
    "            right += 1\n",
    "    return arr[left + 1], arr[right - 1]\n",
    "n = int(sys.stdin.readline())\n",
    "arr = list(map(int, sys.stdin.readline().split()))\n",
    "result = []\n",
    "while True:\n",
    "    line = sys.stdin.readline().strip()\n",
    "    if not line:\n",
    "        break\n",
    "    k, x = map(int, line.split())\n",
    "    result.append(find_(arr, k, x))\n",
    "result_strings = [print_(arr_min, arr_max) for arr_min, arr_max in result]\n",
    "sys.stdout.writelines(result_strings)"
   ]
  }
 ],
 "metadata": {
  "kernelspec": {
   "display_name": "Python 3",
   "language": "python",
   "name": "python3"
  },
  "language_info": {
   "name": "python",
   "version": "3.11.4"
  }
 },
 "nbformat": 4,
 "nbformat_minor": 2
}
