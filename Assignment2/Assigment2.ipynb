{
 "cells": [
  {
   "cell_type": "markdown",
   "metadata": {},
   "source": [
    "### Bài 1"
   ]
  },
  {
   "cell_type": "code",
   "execution_count": 11,
   "metadata": {},
   "outputs": [
    {
     "name": "stdout",
     "output_type": "stream",
     "text": [
      "5 7\n",
      "18595 23388 30650 17690 37888 67012 12702\n",
      "92916 83597 61846 49770 38057 61731 75919\n",
      "69311 -2090 84862  8694 21550 -1594 31113\n",
      "66151  -937 76691 36563 70721 64132 86976\n",
      "81631 47787 30311 23686 57241 21325 36721\n"
     ]
    }
   ],
   "source": [
    "import random\n",
    "\n",
    "def generate_random_matrix(m, n, max_value):\n",
    "    return [[random.randint(-10000, max_value) for _ in range(n)] for _ in range(m)]\n",
    "\n",
    "def print_matrix(matrix):\n",
    "    max_length = len(str(max(map(max, matrix))))\n",
    "    for row in matrix:\n",
    "        print(\" \".join(str(num).rjust(max_length) for num in row))\n",
    "\n",
    "# Nhập kích thước và giá trị tối đa từ người dùng\n",
    "m = int(input(\"Nhập số hàng của ma trận: \"))\n",
    "n = int(input(\"Nhập số cột của ma trận: \"))\n",
    "max_value = int(input(\"Nhập giá trị tối đa của ma trận: \"))\n",
    "\n",
    "# Tạo ma trận ngẫu nhiên\n",
    "random_matrix = generate_random_matrix(m, n, max_value)\n",
    "\n",
    "# In ma trận ngẫu nhiên ra dạng bảng với các số căn chỉnh cách đều\n",
    "print(m,n)\n",
    "print_matrix(random_matrix)\n"
   ]
  },
  {
   "cell_type": "code",
   "execution_count": null,
   "metadata": {},
   "outputs": [],
   "source": [
    "def rotate(a, r, c):\n",
    "    b = [[0] * c for _ in range(r)]\n",
    "\n",
    "    # Copying the input matrix to a temp array\n",
    "    for x in range(r):\n",
    "        for y in range(c):\n",
    "            b[x][y] = a[x][y]\n",
    "\n",
    "    row_start, row_end, col_start, col_end = 0, r - 1, 0, c - 1\n",
    "\n",
    "    while row_start <= row_end and col_start <= col_end:\n",
    "        # Rotate the first row to the last column\n",
    "        for i in range(col_end, col_start - 1, -1):\n",
    "            a[row_start][i] = b[row_start + 1][i]\n",
    "        row_start += 1\n",
    "\n",
    "        # Rotate the last column to the last row\n",
    "        for i in range(row_start, row_end + 1):\n",
    "            a[i][col_end] = b[i][col_end - 1]\n",
    "        col_end -= 1\n",
    "\n",
    "        # Rotate the last row to the first column\n",
    "        if row_start <= row_end:\n",
    "            for i in range(col_end, col_start - 1, -1):\n",
    "                a[row_end][i] = b[row_end - 1][i]\n",
    "            row_end -= 1\n",
    "\n",
    "        # Rotate the first column to the first row\n",
    "        if col_start <= col_end:\n",
    "            for i in range(row_end, row_start - 1, -1):\n",
    "                a[i][col_start] = b[i][col_start + 1]\n",
    "            col_start += 1\n",
    "\n",
    "\n",
    "def main():\n",
    "    row = int(input(\"Enter number of rows: \"))\n",
    "    col = int(input(\"Enter number of columns: \"))\n",
    "\n",
    "    a = [[0] * col for _ in range(row)]\n",
    "\n",
    "    print(\"Enter\", row, \"x\", col, \"matrix elements:\")\n",
    "    for i in range(row):\n",
    "        for j in range(col):\n",
    "            a[i][j] = int(input())\n",
    "\n",
    "    rotate(a, row, col)\n",
    "\n",
    "    print(\"Matrix after rotation:\")\n",
    "    for i in range(row):\n",
    "        for j in range(col):\n",
    "            print(\"\\t\", a[i][j], end=\"\")\n",
    "        print()\n",
    "\n",
    "\n",
    "if __name__ == \"__main__\":\n",
    "    main()\n"
   ]
  }
 ],
 "metadata": {
  "kernelspec": {
   "display_name": "Python 3",
   "language": "python",
   "name": "python3"
  },
  "language_info": {
   "codemirror_mode": {
    "name": "ipython",
    "version": 3
   },
   "file_extension": ".py",
   "mimetype": "text/x-python",
   "name": "python",
   "nbconvert_exporter": "python",
   "pygments_lexer": "ipython3",
   "version": "3.11.4"
  }
 },
 "nbformat": 4,
 "nbformat_minor": 2
}
